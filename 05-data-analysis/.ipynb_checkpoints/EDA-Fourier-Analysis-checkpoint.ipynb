{
 "cells": [
  {
   "cell_type": "markdown",
   "metadata": {},
   "source": [
    "# Exploratory data analysis with Fourier analysis"
   ]
  },
  {
   "cell_type": "markdown",
   "metadata": {},
   "source": [
    "It's time to put your Fourier analysis skills to use, and dig into some real-world data: COVID case counts. (I hope this goes without saying, but remember that the any predictions you make with this data are for signal-processing-related educational purposes only!)\n",
    "\n",
    "Learning outcomes:\n",
    " - apply moving-average filters to discrete-time data sets\n",
    " - analyze the Fourier spectrum of a temporal data series to make predictions about future behaviour \n",
    " - manipulate data tables using the `pandas` library\n",
    " "
   ]
  },
  {
   "cell_type": "markdown",
   "metadata": {},
   "source": [
    "## 1. Loading the data"
   ]
  },
  {
   "cell_type": "markdown",
   "metadata": {},
   "source": [
    "We are going to work with a couple new Python libraries for this problem: `pandas`, a library for data processing, and `scipy`, a scientific computing library, much like `numpy`. These are both encountered quite often in the wild, and it's useful to be able to do a few basic things with them, in particular with `pandas`."
   ]
  },
  {
   "cell_type": "code",
   "execution_count": null,
   "metadata": {},
   "outputs": [],
   "source": [
    "import pandas as pd\n",
    "import numpy as np\n",
    "import scipy as sp\n",
    "import matplotlib.pyplot as plt"
   ]
  },
  {
   "cell_type": "markdown",
   "metadata": {},
   "source": [
    "You've been provided with CSV file that contains over two and half years of COVID case counts for Canada. The source for this data, and for plenty more should you be interested, is [Our World in Data's GitHub page](https://github.com/owid/covid-19-data/tree/master/public/data) (new tab), which includes data from the following sources: \n",
    "\n",
    " - Mathieu, E., Ritchie, H., Ortiz-Ospina, E. et al. A global database of COVID-19 vaccinations. Nat Hum Behav (2021). [https://doi.org/10.1038/s41562-021-01122-8](https://doi.org/10.1038/s41562-021-01122-8) (new tab)\n",
    " - Hasell, J., Mathieu, E., Beltekian, D. et al. A cross-country database of COVID-19 testing. Sci Data 7, 345 (2020). [https://doi.org/10.1038/s41597-020-00688-8](https://doi.org/10.1038/s41597-020-00688-8) (new tab)\n",
    "\n",
    "\n",
    "I've done a bit of pre-processing on the data for you (removing NaN values, and extracting only a few relevant columns), but you are welcome to explore the full set at your leisure.\n",
    "\n",
    "Our first step is to load it into a `pandas` `Dataframe` object. We won't be working too much with the DataFrame itself (mostly, we'll extract the data into NumPy arrays), but if you would like a comprehensive overview of how to work with them, there are many tutorials online, such as [this one](https://www.dataquest.io/blog/tutorial-how-to-create-and-use-a-pandas-dataframe/) (new tab)."
   ]
  },
  {
   "cell_type": "code",
   "execution_count": null,
   "metadata": {},
   "outputs": [],
   "source": [
    "df = pd.read_csv(\"canada_data.csv\")"
   ]
  },
  {
   "cell_type": "markdown",
   "metadata": {},
   "source": [
    "Running the following command will allow you to get an overview of the data:"
   ]
  },
  {
   "cell_type": "code",
   "execution_count": null,
   "metadata": {},
   "outputs": [],
   "source": [
    "df"
   ]
  },
  {
   "cell_type": "markdown",
   "metadata": {},
   "source": [
    "You can also get some basic statistics:"
   ]
  },
  {
   "cell_type": "code",
   "execution_count": null,
   "metadata": {},
   "outputs": [],
   "source": [
    "df.describe()"
   ]
  },
  {
   "cell_type": "markdown",
   "metadata": {},
   "source": [
    "We can plot the various numerical values as a function of date using the DataFrame directly. You can even plot multiple columns by adding them to the list of y values. Let's take a first peek:"
   ]
  },
  {
   "cell_type": "code",
   "execution_count": null,
   "metadata": {},
   "outputs": [],
   "source": [
    "plt.figure(figsize=(22, 6))\n",
    "df.plot(x='date', y=['new_cases'], figsize=(22, 4))"
   ]
  },
  {
   "cell_type": "markdown",
   "metadata": {},
   "source": [
    "**Question 1 (1 point)**: Before proceeding, put on your \"signals and systems\" hat, and describe this data qualitatively. What features does it have? What do you think its Fourier spectrum might look like?"
   ]
  },
  {
   "cell_type": "markdown",
   "metadata": {},
   "source": []
  },
  {
   "cell_type": "markdown",
   "metadata": {},
   "source": [
    "We can also extract individual columns of the data and turn them into `numpy` arrays. This can make things a bit easier moving forward in terms of plotting and analysis."
   ]
  },
  {
   "cell_type": "code",
   "execution_count": null,
   "metadata": {},
   "outputs": [],
   "source": [
    "case_data = df['new_cases'].to_numpy()\n",
    "plt.figure(figsize=(22, 6))\n",
    "plt.stem(case_data)"
   ]
  },
  {
   "cell_type": "markdown",
   "metadata": {},
   "source": [
    "## 2. Fourier analysis"
   ]
  },
  {
   "cell_type": "markdown",
   "metadata": {},
   "source": [
    "**Question 2a (2 points)**: In the empty code cells below, compute the Fourier spectrum of the case data signal. Then, make three plots: its real part, imaginary part, and its absolute value (1 point). Describe the spectrum. Does it fit with your guess from earlier? (1 point)"
   ]
  },
  {
   "cell_type": "markdown",
   "metadata": {},
   "source": []
  },
  {
   "cell_type": "code",
   "execution_count": null,
   "metadata": {},
   "outputs": [],
   "source": [
    "# Your code here. "
   ]
  },
  {
   "cell_type": "code",
   "execution_count": null,
   "metadata": {},
   "outputs": [],
   "source": []
  },
  {
   "cell_type": "markdown",
   "metadata": {},
   "source": [
    "**Question 2b (2 points)**: Let's get a little more precise. \n",
    "\n",
    " * (1 point) What do the spikes in the spectrum tell you about the data?\n",
    " * (1 point) *Where* are those spikes? \n",
    " \n",
    "Rather than finding them by inspection, check out `scipy`'s [signal processing module](https://docs.scipy.org/doc/scipy/reference/signal.html#) (. It contains some functions that will help you out! "
   ]
  },
  {
   "cell_type": "markdown",
   "metadata": {},
   "source": []
  },
  {
   "cell_type": "code",
   "execution_count": null,
   "metadata": {},
   "outputs": [],
   "source": [
    "# Your code here"
   ]
  },
  {
   "cell_type": "code",
   "execution_count": null,
   "metadata": {},
   "outputs": [],
   "source": []
  },
  {
   "cell_type": "markdown",
   "metadata": {},
   "source": [
    "## 3. Filtering"
   ]
  },
  {
   "cell_type": "markdown",
   "metadata": {},
   "source": [
    "**Question 3a (1 point)**: In the previous section, we were viewing the data at the level of days. Try applying a *filter* to the data to smooth things out and get a clearer picture of the long-term trends (what kind of filter makes sense here?). You can implement your own, or use something pre-made from `scipy`. Then, apply the same Fourier analysis methods as the previous section. How does your answer compare?"
   ]
  },
  {
   "cell_type": "markdown",
   "metadata": {},
   "source": []
  },
  {
   "cell_type": "code",
   "execution_count": null,
   "metadata": {},
   "outputs": [],
   "source": [
    "# Your code here"
   ]
  },
  {
   "cell_type": "markdown",
   "metadata": {},
   "source": []
  },
  {
   "cell_type": "markdown",
   "metadata": {},
   "source": [
    "**Question 3b (1 point)**: Based on your results, when do you think we will experience the next wave of COVID? (Again: don't take this too seriously! There is no right/wrong answer here, and you're being graded based on your analysis techniques and not your accuracy.)"
   ]
  },
  {
   "cell_type": "markdown",
   "metadata": {},
   "source": []
  },
  {
   "cell_type": "code",
   "execution_count": null,
   "metadata": {},
   "outputs": [],
   "source": []
  },
  {
   "cell_type": "markdown",
   "metadata": {},
   "source": [
    "## 4. Correlations"
   ]
  },
  {
   "cell_type": "markdown",
   "metadata": {},
   "source": [
    "**Question 4 (1 point)**: In addition to the case counts, I left a couple other pieces of data in the frame for you. Choose a different one, analyze its spectrum, and compare it to the case count spectrum (remember that the spectrum has both magnitude and phase!). What features of the spectrum are the same / different? Does this make sense based on the meaning of the data? What real-world implications might it have? "
   ]
  },
  {
   "cell_type": "code",
   "execution_count": null,
   "metadata": {},
   "outputs": [],
   "source": []
  }
 ],
 "metadata": {
  "kernelspec": {
   "display_name": "Python 3 (ipykernel)",
   "language": "python",
   "name": "python3"
  },
  "language_info": {
   "codemirror_mode": {
    "name": "ipython",
    "version": 3
   },
   "file_extension": ".py",
   "mimetype": "text/x-python",
   "name": "python",
   "nbconvert_exporter": "python",
   "pygments_lexer": "ipython3",
   "version": "3.11.4"
  }
 },
 "nbformat": 4,
 "nbformat_minor": 4
}
