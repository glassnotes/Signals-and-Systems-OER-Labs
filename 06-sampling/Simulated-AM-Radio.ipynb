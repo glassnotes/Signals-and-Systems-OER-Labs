{
 "cells": [
  {
   "cell_type": "markdown",
   "id": "ae905c9c-f3b6-4d62-bc68-09db085fe91c",
   "metadata": {},
   "source": [
    "# Building a simulated AM radio"
   ]
  },
  {
   "cell_type": "markdown",
   "id": "6a475110-754a-4e97-95d9-f0a2ab365b11",
   "metadata": {},
   "source": [
    "In this problem, you'll implement a simulated AM radio system that is fairly realistic in terms of the operation of the receiver and demodulation process. \n",
    "\n",
    "Learning outcomes:\n",
    " - explain how an AM radio and superheterodyne receiver operate\n",
    " - compute sampling rates, and perform up and downsampling of digital signals\n",
    " - apply frequency-division multiplexing to combine multiple digital signals"
   ]
  },
  {
   "cell_type": "markdown",
   "id": "1112552f-42db-426f-a017-1ebd8f40f393",
   "metadata": {},
   "source": [
    "## Part 0. Your musical selection"
   ]
  },
  {
   "cell_type": "markdown",
   "id": "4bcf7423-3f8d-4133-a8de-e68e6da17a3e",
   "metadata": {},
   "source": [
    "Suppose you and your colleague were put in charge of a radio broadcast company that manages 5 stations at the following frequencies (in kHz): 580, 600, 620, 640, and 660. (Note that typically, AM is used for talk radio, which requires a bandwidth of ~10 kHz. However to make things interesting, we're going to use music which requires a wider range.) "
   ]
  },
  {
   "cell_type": "markdown",
   "id": "7bdb27be-7125-4c56-bc16-ff23335d9936",
   "metadata": {},
   "source": [
    "**Question 0.1 (1 point)**. To make things more meaningful for you (hopefully!), choose five different songs, perhaps of different genres, for your radio stations. Select ~1-2s clips of each (make them the same length) and use a sampling rate between 40000-48000."
   ]
  },
  {
   "cell_type": "code",
   "execution_count": null,
   "id": "c66cb851-f05e-40c2-914e-0a8b9f173ccb",
   "metadata": {},
   "outputs": [],
   "source": [
    "import numpy as np\n",
    "\n",
    "# Prepare some samples and load them in here. Use the code from\n",
    "# lab 2 about audio processing as a starting point.\n",
    "song_1 = None\n",
    "song_2 = None\n",
    "song_3 = None\n",
    "song_4 = None\n",
    "song_5 = None"
   ]
  },
  {
   "cell_type": "markdown",
   "id": "955eec96-6037-402a-8b29-67314422da56",
   "metadata": {},
   "source": [
    "## Part 1. The broadcast"
   ]
  },
  {
   "cell_type": "markdown",
   "id": "1135bdda-0e07-4633-aabc-302448f5414c",
   "metadata": {},
   "source": [
    "We will begin by setting up the broadcast process according to the following block diagram.\n",
    "\n",
    "<img src=\"broadcast.png\" width=700>\n",
    "\n",
    "In this diagram, five unique inputs are each put through a lowpass filter and upsampled, before undergoing amplitude modulation with carrier signals of 5 different frequencies and added together at the output."
   ]
  },
  {
   "cell_type": "markdown",
   "id": "1a6dbd04-3ea4-463b-9dce-5eefd3371aa2",
   "metadata": {},
   "source": [
    "**Question 1.1 (1 point)**. First, design a lowpass filter to reduce the bandwidth of a signal to within the acceptable range of our radio stations."
   ]
  },
  {
   "cell_type": "code",
   "execution_count": null,
   "id": "e55c0059-8650-4386-9efe-067d4d570dd4",
   "metadata": {},
   "outputs": [],
   "source": [
    "def reduce_signal_bandwidth(signal):\n",
    "    \"\"\"Reduce the bandwidth of a signal to within a ~20 kHz band.\n",
    "    \n",
    "    Here, 20 kHz corresponds to the space a signal will take when considering\n",
    "    both positive and negative frequencies, like we have seen during the \n",
    "    amplitude modulation lectures in class. \n",
    "    \n",
    "    It is up to you how to filter it. You may choose to use an ideal brick \n",
    "    wall filter, or a more realistic non-ideal filter (it need not be \n",
    "    exactly 20 kHz wide, just something appropriate for the application).\n",
    "    \n",
    "    Args:\n",
    "        signal (array[float]): A real-valued signal.\n",
    "        \n",
    "    Returns:\n",
    "        array[float]: A signal that has been filtered so that its spectrum is \n",
    "        band-limited. \n",
    "    \"\"\"\n",
    "    return"
   ]
  },
  {
   "cell_type": "markdown",
   "id": "bd4f3c96-5b52-4fff-98c6-755505044c35",
   "metadata": {},
   "source": [
    "**Question 1.2 (0.5 points)**. Before modulation, we must upsample our signal. Why do you think this is required? Compute an upsampling factor that will yield signals in the desired frequency range during the broadcast."
   ]
  },
  {
   "cell_type": "markdown",
   "id": "6b2bcdce-3a36-45d8-9320-e51ecf6c4236",
   "metadata": {},
   "source": []
  },
  {
   "cell_type": "markdown",
   "id": "84c449d0-1c6b-4130-add7-d75f8f9d02d8",
   "metadata": {},
   "source": [
    "**Question 1.3 (0.5 points)**. Implement a function to upsample your signal. "
   ]
  },
  {
   "cell_type": "code",
   "execution_count": 1,
   "id": "38917981-93c5-46e9-9040-575b60329bca",
   "metadata": {},
   "outputs": [],
   "source": [
    "def upsample_signal(signal, upsampling_factor):\n",
    "    \"\"\"Upsample a digital signal by a given factor.\n",
    "    \n",
    "    You may implement this using a technique such as zero-insertion,\n",
    "    or use built-in methods in SciPy's signal processing toolkit.\n",
    "    \n",
    "    Args:\n",
    "        signal (array[float]): A real-valued signal.\n",
    "        upsampling_factor (int): The upsampling factor.\n",
    "        \n",
    "    Returns:\n",
    "        array[float]: The upsampled signal.\n",
    "    \"\"\"\n",
    "    return\n",
    "    "
   ]
  },
  {
   "cell_type": "markdown",
   "id": "e9fa60d0-8625-4cad-8833-00e7d84f81f0",
   "metadata": {},
   "source": [
    "**Question 1.4 (1 point)**. Implement a function that performs sinusoidal amplitude modulation (with a $\\cos$ carrier signal) of a signal into the frequency range of a desired radio station."
   ]
  },
  {
   "cell_type": "code",
   "execution_count": null,
   "id": "e7700f9d-3610-4059-b110-edd439df33e3",
   "metadata": {},
   "outputs": [],
   "source": [
    "def sinusoidal_amplitude_modulation(signal, station_frequency, phase=0.0):\n",
    "    \"\"\"Modulate a signal up to the frequency of a desired AM radio station.\n",
    "    \n",
    "    The amplitude modulation should have the form:\n",
    "       y(t) = x(t) * c(t) = x(t) * cos(ω_c * t + θ_c) \n",
    "    where ω_c is the carrier (station) frequency, and θ_c is a phase.\n",
    "    \n",
    "    Args:\n",
    "        signal (array[float]): A real-valued signal.\n",
    "        station_frequency (int): The (carrier) frequency of the station, in kHz.\n",
    "        phase (float): The phase of the carrier signal. \n",
    "        \n",
    "    Returns:\n",
    "        array[float]: The modulated signal.\n",
    "    \"\"\"\n",
    "    return\n",
    "    "
   ]
  },
  {
   "cell_type": "markdown",
   "id": "35320396-1bd2-47bd-b0ff-e864a412f4c9",
   "metadata": {},
   "source": [
    "**Question 1.5 (1 point)**. Your radio company will use frequency-division multiplexing (FDM) to send multiple signals over the same channel. Using the frequencies listed above, implement a broadcast (transmission) system that takes a set of signals as input, and outputs the full FDM radio broadcast."
   ]
  },
  {
   "cell_type": "code",
   "execution_count": null,
   "id": "058a3eb2-c41a-48e7-a149-97c8f2b5433f",
   "metadata": {},
   "outputs": [],
   "source": [
    "def broadcast(signals):\n",
    "    \"\"\"Broadcast a set of signals at different frequencies to simulate \n",
    "    a set of radio stations.\n",
    "    \n",
    "    This function should:\n",
    "      - reduce the bandwidth of each of the provided signals\n",
    "      - upsample each signal\n",
    "      - modulate each one to the correct frequency range\n",
    "      - perform FDM to generate a combined output signal to be broadcast\n",
    "    \n",
    "    Args:\n",
    "        signals (list[array[float]]): A list of signals to be transmitted. \n",
    "    \n",
    "    Returns:\n",
    "        array[float]: A single channel contain the frequency-division multiplexed\n",
    "        set of signals.\n",
    "    \"\"\"\n",
    "    return"
   ]
  },
  {
   "cell_type": "markdown",
   "id": "03ad7c0b-4c92-46a9-ae5c-d8994f9039b6",
   "metadata": {},
   "source": [
    "**Question 1.6 (1 point)**. Before moving forward, broadcast your set of songs, and plot the frequency spectrum of the output signal. Does it look like you expect?"
   ]
  },
  {
   "cell_type": "code",
   "execution_count": null,
   "id": "130a5084-7553-4ac1-a52e-c5b81ce724ff",
   "metadata": {},
   "outputs": [],
   "source": []
  },
  {
   "cell_type": "markdown",
   "id": "773cd4bd-2528-43e8-bbd6-3bb5d264d9ec",
   "metadata": {},
   "source": [
    "## Part 2. A simple receiver"
   ]
  },
  {
   "cell_type": "markdown",
   "id": "83cc189c-65ff-48c3-a9f8-1a20178712a1",
   "metadata": {},
   "source": [
    "To test your broadcasting setup, let's implement a simple synchronous demodulation system."
   ]
  },
  {
   "cell_type": "markdown",
   "id": "baa0c084-e310-46ed-bff5-61974d1de4b4",
   "metadata": {},
   "source": [
    "**Question 2.1 (1 point)**. Complete the function below to implement the synchronous *demodulation* system that we described in class (see the docstring below for details). "
   ]
  },
  {
   "cell_type": "code",
   "execution_count": null,
   "id": "fe5dc5b8-9a16-49a9-92cd-25ca9698fd4b",
   "metadata": {},
   "outputs": [],
   "source": [
    "def synchronous_demodulation(broadcast, station_frequency, phase=0.0, bandpass=True):\n",
    "    \"\"\"Demodulate the radio broadcast and extract a desired station.\n",
    "    \n",
    "    This function should:\n",
    "      - apply a bandpass filter (if specified) to the signal to extract\n",
    "        only the parts of the spectrum in the desired station's frequency range\n",
    "      - demodulate with a sinusoidal carrier (use cos) at the desired frequency\n",
    "      - apply a low-pass filter with the appropriate gain to recover the signal\n",
    "      - downsample the signal back to something in an audible range (you may \n",
    "        want to implement a helper function that does this)\n",
    "    \n",
    "    Args:\n",
    "        broadcast (array[float]): A radio broadcast consisting of five channels\n",
    "            that have been FD multiplexed.\n",
    "        station_frequency (int): The frequency (in kHz) of the radio station.\n",
    "        phase (float): The phase of the demodulating signal.\n",
    "        bandpass (bool): Whether or not to apply a bandpass filter before\n",
    "            demodulating and filtering.\n",
    "    \n",
    "    Returns:\n",
    "        array[float]: The signal of the radio station at the desired frequency.\n",
    "    \"\"\"\n",
    "    return"
   ]
  },
  {
   "cell_type": "markdown",
   "id": "0ed4580d-83f9-4fbf-a11c-18ba0c427f0d",
   "metadata": {},
   "source": [
    "**Question 2.2 (0.5 point)**. Test your demodulation function below to extract the 600 kHz station."
   ]
  },
  {
   "cell_type": "code",
   "execution_count": null,
   "id": "5ef4c5a6-1f92-4179-a99c-6a78c38c8fec",
   "metadata": {},
   "outputs": [],
   "source": []
  },
  {
   "cell_type": "markdown",
   "id": "cf2ab6d4-4508-4191-8c12-2ab8df1d75f1",
   "metadata": {},
   "source": [
    "**Question 2.3 (0.5 point)**. Test your demodulation function with a non-zero phase; what happens to the output signal when the modulation and demodulation are not perfectly in sync?"
   ]
  },
  {
   "cell_type": "code",
   "execution_count": null,
   "id": "2b88bb0e-0033-46fd-b52c-b785efe0aadd",
   "metadata": {},
   "outputs": [],
   "source": []
  },
  {
   "cell_type": "markdown",
   "id": "5aa7efe8-0c5c-42db-8cd8-b69f4fc1d382",
   "metadata": {},
   "source": []
  },
  {
   "cell_type": "markdown",
   "id": "a96d0e31-214b-4e3e-b776-3750137e0770",
   "metadata": {},
   "source": [
    "**Question 2.4 (0.5 point)**. Set `bandpass=False` and test the demodulation; how does it sound?"
   ]
  },
  {
   "cell_type": "code",
   "execution_count": null,
   "id": "7b374647-ab9a-460f-9f53-ceb62fac5f49",
   "metadata": {},
   "outputs": [],
   "source": []
  },
  {
   "cell_type": "markdown",
   "id": "f37ac5db-9b12-4701-8538-141477f2a26b",
   "metadata": {},
   "source": [
    "**Question 2.5 (0.5 point)**. Try demodulating with an invalid station frequency (e.g., 590, 610, anything that sits in between our allotted values). Does this sound like you expect?"
   ]
  },
  {
   "cell_type": "code",
   "execution_count": null,
   "id": "4eb1ffca-481e-4698-8e0f-28624cad3abd",
   "metadata": {},
   "outputs": [],
   "source": []
  },
  {
   "cell_type": "markdown",
   "id": "a1ec200e-5844-4cba-9d7e-b3a7e2077fcd",
   "metadata": {},
   "source": [
    "## Part 3: the superheterodyne receiver"
   ]
  },
  {
   "cell_type": "markdown",
   "id": "e60e9ad6-0350-4291-a5ed-25c92fdb7333",
   "metadata": {},
   "source": [
    "In practice, AM radio is demultiplexed and demodulated by a system called the [superheterodyne receiver](https://en.wikipedia.org/wiki/Superheterodyne_receiver) (link opens in new tab), or superhet for short. Consider the (simplified) diagram below (there should in principle be some amplifiers in here, but we will ignore them):\n",
    " \n",
    "<img src=\"superhet.png\" width=\"1100\">"
   ]
  },
  {
   "cell_type": "markdown",
   "id": "ed5902fb-9076-406d-97f4-1d639506ef5a",
   "metadata": {},
   "source": [
    "Here, $y(t)$ corresponds to the multiplexed signal that your broadcast outputs. This is put through a coarse tunable bandpass filter (this corresponds to you turning the radio dial), then mixed with a variable-frequency local oscillator to produce a signal centered at an intermediate frequency (IF) of 455 kHz. Said signal is then put through a high-quality bandpass filter that has been optimized to work at this specific frequency before being sent to the demodulator.\n",
    "\n",
    "**Question 3.1 (1 point)**: Implement the heterodyning process in the graphic above. The function should take the multiplexed signal as input and a desired radio station frequency, and output the demodulated audio signal."
   ]
  },
  {
   "cell_type": "code",
   "execution_count": null,
   "id": "1b24f3c7-2e30-4243-8a6b-f4ef4b61fb2e",
   "metadata": {},
   "outputs": [],
   "source": [
    "def receiver(radio_broadcast, station_frequency):\n",
    "    \"\"\"Implement a simplified superheterodyne receiver to extract a desired station.\n",
    "    \n",
    "    This function should:\n",
    "      - apply a bandpass filter to the signal to extract the correct \n",
    "        frequency regime \n",
    "      - use a local oscillator (frequency related to the bandpass) to yield an\n",
    "        intermediate frequency signal at 455 kHz\n",
    "      - apply a fixed bandpass filter and then demodulate to recover the station\n",
    "    \n",
    "    Args:\n",
    "        broadcast (array[float]): A radio broadcast consisting of five channels\n",
    "            that have been FD multiplexed.\n",
    "        station_frequency (int): The frequency (in kHz) of the radio station.\n",
    "    \n",
    "    Returns:\n",
    "        array[float]: The signal of the radio station at the desired frequency.\n",
    "    \"\"\"\n",
    "    return"
   ]
  },
  {
   "cell_type": "markdown",
   "id": "b36c33ee-6356-4312-93f0-ae373e794d65",
   "metadata": {},
   "source": [
    "**Question 3.2 (1 point)**: Let's put everything together: below, use the broadcast function to create a signal, and then pass it to the receiver to listen to your favourite station. "
   ]
  },
  {
   "cell_type": "code",
   "execution_count": null,
   "id": "462206a6-10d4-41ee-b361-dc481d5c0bd6",
   "metadata": {},
   "outputs": [],
   "source": []
  }
 ],
 "metadata": {
  "kernelspec": {
   "display_name": "Python 3 (ipykernel)",
   "language": "python",
   "name": "python3"
  },
  "language_info": {
   "codemirror_mode": {
    "name": "ipython",
    "version": 3
   },
   "file_extension": ".py",
   "mimetype": "text/x-python",
   "name": "python",
   "nbconvert_exporter": "python",
   "pygments_lexer": "ipython3",
   "version": "3.9.12"
  }
 },
 "nbformat": 4,
 "nbformat_minor": 5
}
