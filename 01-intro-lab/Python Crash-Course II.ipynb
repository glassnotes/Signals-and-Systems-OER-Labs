{
 "cells": [
  {
   "cell_type": "markdown",
   "metadata": {},
   "source": [
    "# Tutorial 2: Signals\n",
    "\n",
    "## Goal of this part\n",
    "\n",
    "In today's tutorial, you'll learn how to:\n",
    "\n",
    "1. define and call your own functions\n",
    "2. manipulate boolean expressions and use if/else statements\n",
    "3. create for-loops\n",
    "4. use Numpy's arrays\n",
    "5. Plot and listen to sinusoids\n",
    "6. illustration of Fourier Synthesis"
   ]
  },
  {
   "cell_type": "markdown",
   "metadata": {},
   "source": [
    "## 1. Functions"
   ]
  },
  {
   "cell_type": "markdown",
   "metadata": {},
   "source": [
    "Last week we learnt how to use functions that come with Python or Python modules, but it is also possible to add new functions.\n",
    "\n",
    "A **function definition** specifies the name of a new function and the sequence of statements that run when the function is called.\n",
    "\n",
    "Python functions are defined using the `def` keyword. Here is a simple example:"
   ]
  },
  {
   "cell_type": "code",
   "execution_count": null,
   "metadata": {},
   "outputs": [],
   "source": [
    "def sum_of_squares(a,b):\n",
    "    \"\"\"returns sum of squares of the arguments\"\"\"\n",
    "    return a**2+b**2"
   ]
  },
  {
   "cell_type": "markdown",
   "metadata": {},
   "source": [
    "The `def` keyword indicates that this is a function definition. The *name* of the function is `sum_of_squares`. The parameters in the parenthesis are called **arguments** of the function.\n",
    "\n",
    "The first line of the function definition is called the **header**; the rest is called the body. The header has to end with **a colon** and **the body has to be indented**. By convention, indentation is always four spaces. The body can contain any number of statements."
   ]
  },
  {
   "cell_type": "markdown",
   "metadata": {},
   "source": [
    "The syntax for calling the new function is the same as for built-in function:"
   ]
  },
  {
   "cell_type": "code",
   "execution_count": null,
   "metadata": {},
   "outputs": [],
   "source": [
    "\"\"\"Call the function we defined previously\"\"\"\n",
    "sum_of_squares(3,4)"
   ]
  },
  {
   "cell_type": "markdown",
   "metadata": {},
   "source": [
    "Once you have defined a function, you can use it inside another function. \n",
    "\n",
    "<font color='red'>**Exercise 1.1**</font> Create a new function that computes the sum of squares of four real numbers."
   ]
  },
  {
   "cell_type": "code",
   "execution_count": null,
   "metadata": {},
   "outputs": [],
   "source": [
    "..."
   ]
  },
  {
   "cell_type": "markdown",
   "metadata": {},
   "source": [
    "Function definitions get executed just like other statements, but the effect is to create function objects. The statements inside the function do not run until the function is called, and the function definition generates no output.\n",
    "\n",
    "\n",
    "As you might expect, **you have to create a function before you can run it.** In other words, the function definition has to run before the function gets called."
   ]
  },
  {
   "cell_type": "markdown",
   "metadata": {},
   "source": [
    "<font color='red'>**Exercise 1.2**</font> Why does the following piece of code give an error? Fix the code and execute it."
   ]
  },
  {
   "cell_type": "code",
   "execution_count": null,
   "metadata": {},
   "outputs": [],
   "source": [
    "print_twice(\"Don't worry: I am an Engineer!\")\n",
    "\n",
    "def print_twice(msg):\n",
    "    print(msg)\n",
    "    print(msg)"
   ]
  },
  {
   "cell_type": "markdown",
   "metadata": {},
   "source": [
    "When you create a variable inside a function, it is local, which means that it only exists\n",
    "inside the function.\n",
    "\n",
    "<font color='red'>**Exercise 1.3**</font> Why does the following piece of code give an error?"
   ]
  },
  {
   "cell_type": "code",
   "execution_count": null,
   "metadata": {},
   "outputs": [],
   "source": [
    "def sum_of_squares(a,b):\n",
    "    \"\"\"returns sum of squares of the arguments\"\"\"\n",
    "    c = a**2+b**2\n",
    "    return c\n",
    "\n",
    "a = 12\n",
    "b = 11\n",
    "print(sum_of_squares(a,b))\n",
    "print(c)"
   ]
  },
  {
   "cell_type": "markdown",
   "metadata": {},
   "source": [
    "<font color='red'>**Exercise 1.4**</font> Define a function that computes the area of a circle with a given radius. Call the function to compute the area of a circle of radius $\\pi$."
   ]
  },
  {
   "cell_type": "code",
   "execution_count": null,
   "metadata": {},
   "outputs": [],
   "source": [
    "..."
   ]
  },
  {
   "cell_type": "markdown",
   "metadata": {},
   "source": [
    "<font color='red'>**Exercise 1.5**</font> Define a function that computes the Euclidean distance between two points in the 2D space given by the coordinates $(x_1,y_1)$ and $(x_2,y_2)$. What is the distance of the points $(0,1)$ and $(-5,2)$?"
   ]
  },
  {
   "cell_type": "code",
   "execution_count": null,
   "metadata": {},
   "outputs": [],
   "source": [
    "..."
   ]
  },
  {
   "cell_type": "markdown",
   "metadata": {},
   "source": [
    "<font color='red'>**Exercise 1.6**</font> Write a function that takes two points, the center of the circle and a point on the perimeter, and computes the area of the circle. \n",
    "\n",
    "Let the center of the circle be $(1,2)$ and $(-1,-3)$ a point on the perimeter. Call the function to compute the area of the circle."
   ]
  },
  {
   "cell_type": "code",
   "execution_count": null,
   "metadata": {},
   "outputs": [],
   "source": [
    "..."
   ]
  },
  {
   "cell_type": "markdown",
   "metadata": {},
   "source": [
    "### Optional arguments / Default values\n",
    "\n",
    "It is possible to write programmer-defined functions with optional arguments. For example:"
   ]
  },
  {
   "cell_type": "code",
   "execution_count": null,
   "metadata": {},
   "outputs": [],
   "source": [
    "def print_twice(msg='default message'):\n",
    "    print(msg)\n",
    "    print(msg)"
   ]
  },
  {
   "cell_type": "markdown",
   "metadata": {},
   "source": [
    "The argument `msg` above is now **optional** and its default value is \"default message\". Call the function to see that:"
   ]
  },
  {
   "cell_type": "code",
   "execution_count": null,
   "metadata": {},
   "outputs": [],
   "source": [
    "print_twice()"
   ]
  },
  {
   "cell_type": "markdown",
   "metadata": {},
   "source": [
    "Of course, if we call the function by passing an argument, then we can overide the default value:"
   ]
  },
  {
   "cell_type": "code",
   "execution_count": null,
   "metadata": {},
   "outputs": [],
   "source": [
    "print_twice('my message!')"
   ]
  },
  {
   "cell_type": "markdown",
   "metadata": {},
   "source": [
    "It is possible (and often very useful) to create functions that **combine required and optional arguments**. The only rule is that  all the required parameters have to come first, followed by the optional ones."
   ]
  },
  {
   "cell_type": "code",
   "execution_count": null,
   "metadata": {},
   "outputs": [],
   "source": [
    "def greet(name, msg = \"Good morning!\"):\n",
    "   \"\"\"\n",
    "   This function greets to\n",
    "   the person with the\n",
    "   provided message.\n",
    "\n",
    "   If message is not provided,\n",
    "   it defaults to \"Good\n",
    "   morning!\"\n",
    "   \"\"\"\n",
    "\n",
    "   print(\"Hello\",name + ', ' + msg)"
   ]
  },
  {
   "cell_type": "markdown",
   "metadata": {},
   "source": [
    "<font color='red'>**Exercise 1.7**</font> What is the output of the following calls to the function?"
   ]
  },
  {
   "cell_type": "code",
   "execution_count": null,
   "metadata": {},
   "outputs": [],
   "source": [
    "greet(\"Mary\")\n",
    "greet(\"Bob\",\"How do you do?\")"
   ]
  },
  {
   "cell_type": "markdown",
   "metadata": {},
   "source": [
    "<font color='red'>**Exercise 1.8**</font> Modify your function in Exercise 1.6 so that the center of the circle is an optional argument with default value the origin of the plane. "
   ]
  },
  {
   "cell_type": "code",
   "execution_count": null,
   "metadata": {},
   "outputs": [],
   "source": [
    "..."
   ]
  },
  {
   "cell_type": "markdown",
   "metadata": {},
   "source": [
    "### Why functions?\n",
    "(See ThinkPython book Chapter 3)\n",
    "\n",
    "* Creating a new function gives you an opportunity to name a group of statements, which makes your program **easier to read and debug**.\n",
    "* Functions can make a program **smaller** by eliminating repetitive code. Later, if you make a change, you only have to make it in one place.\n",
    "* Dividing a long program into functions allows you to debug the parts one at a time and then assemble them into a working whole.\n",
    "* Well-designed functions are often **useful for many programs.** Once you write and debug one, you can reuse it.\n"
   ]
  },
  {
   "cell_type": "markdown",
   "metadata": {},
   "source": [
    "## 2. Conditionals\n",
    "\n",
    "(Read Chapter 5 in the ThinkPython book)"
   ]
  },
  {
   "cell_type": "markdown",
   "metadata": {},
   "source": [
    "### Boolean expressions\n",
    "\n",
    "A boolean expression is an expression that is either true or false. The following examples use the **operator `==`**, which compares two operands and produces **True** if they are equal and **False** otherwise. \n",
    "\n",
    "Run the cells below."
   ]
  },
  {
   "cell_type": "code",
   "execution_count": null,
   "metadata": {},
   "outputs": [],
   "source": [
    "5 == 5"
   ]
  },
  {
   "cell_type": "code",
   "execution_count": null,
   "metadata": {},
   "outputs": [],
   "source": [
    "5 == 6"
   ]
  },
  {
   "cell_type": "markdown",
   "metadata": {},
   "source": [
    "True and False are special values that belong to the **type bool**; **they are not strings**! Check this by calling the built-in function `type`"
   ]
  },
  {
   "cell_type": "code",
   "execution_count": null,
   "metadata": {},
   "outputs": [],
   "source": [
    "print(type(True))\n",
    "print(type(False))"
   ]
  },
  {
   "cell_type": "markdown",
   "metadata": {},
   "source": [
    "<font color='red'>**Exercise 2.1**</font> We saw that the operator `==` compares two operands and produces True if and only if they are equal. What is the meaning of the following operators?\n",
    "* `!=`\n",
    "* `>`\n",
    "* `<`\n",
    "* `>=`\n",
    "* `<=`\n",
    "\n",
    "Write code that tests the meaning of all of them."
   ]
  },
  {
   "cell_type": "code",
   "execution_count": null,
   "metadata": {},
   "outputs": [],
   "source": [
    "..."
   ]
  },
  {
   "cell_type": "markdown",
   "metadata": {},
   "source": [
    "## Conditional execution"
   ]
  },
  {
   "cell_type": "markdown",
   "metadata": {},
   "source": [
    "In order to write useful programs, we almost always need the ability to check conditions and change the behavior of the program accordingly. Conditional statements give us this ability. The simplest form is the **if statement**:"
   ]
  },
  {
   "cell_type": "code",
   "execution_count": null,
   "metadata": {},
   "outputs": [],
   "source": [
    "if x > 0:\n",
    "    print('x is positive')"
   ]
  },
  {
   "cell_type": "markdown",
   "metadata": {},
   "source": [
    "The boolean expression after if is called **the condition**. If it is true, the indented statement runs. If not, nothing happens. \n",
    "\n",
    "*if statements have the same structure as function definitions: a header followed by an indented body.*"
   ]
  },
  {
   "cell_type": "markdown",
   "metadata": {},
   "source": [
    "<font color='red'>**Exercise 2.2**</font> Define a function `print_if_pos` that prints the value of its numerical argument only if it is positive and does noting otherwise. Call the function with arguments $2$ and $-3$."
   ]
  },
  {
   "cell_type": "code",
   "execution_count": null,
   "metadata": {},
   "outputs": [],
   "source": [
    "..."
   ]
  },
  {
   "cell_type": "markdown",
   "metadata": {},
   "source": [
    "<font color='red'>**Exercise 2.3**</font> Modify the function `print_if_pos` that prints the value of its numerical argument if it is positive and prints the message \"number is negative\" otherwise. Call the function with arguments $2$ and $-3$."
   ]
  },
  {
   "cell_type": "code",
   "execution_count": null,
   "metadata": {},
   "outputs": [],
   "source": [
    "..."
   ]
  },
  {
   "cell_type": "markdown",
   "metadata": {},
   "source": [
    "<font color='red'>**Exercise 2.4**</font> Define a function `sign` that returns whether its numerical argument is positive, negative or zero. Call the function by passing $-1$, $0$ and $1$ as arguments."
   ]
  },
  {
   "cell_type": "code",
   "execution_count": null,
   "metadata": {},
   "outputs": [],
   "source": [
    "..."
   ]
  },
  {
   "cell_type": "markdown",
   "metadata": {},
   "source": [
    "## 3. For loops\n",
    "\n",
    "**for loops** are  used when you have a block of code which you want to repeat a fixed number of times. The Python for statement iterates over the members of a sequence in order, executing the block each time.\n",
    "\n",
    "Here are twp examples:"
   ]
  },
  {
   "cell_type": "code",
   "execution_count": null,
   "metadata": {},
   "outputs": [],
   "source": [
    "# print the first four prime numbers\n",
    "for i in [1,3,5,7]:\n",
    "    print(i)"
   ]
  },
  {
   "cell_type": "code",
   "execution_count": null,
   "metadata": {},
   "outputs": [],
   "source": [
    "for character in 'ECE 3':\n",
    "    print(character)"
   ]
  },
  {
   "cell_type": "markdown",
   "metadata": {},
   "source": [
    "A very common case for a for-loop is to iterate some integer variable in increasing or decreasing order. Such a sequence of integer can be created using **the function range** as follows"
   ]
  },
  {
   "cell_type": "code",
   "execution_count": null,
   "metadata": {},
   "outputs": [],
   "source": [
    "for i in range(4):\n",
    "    print(i)"
   ]
  },
  {
   "cell_type": "markdown",
   "metadata": {},
   "source": [
    "Or, as follows:"
   ]
  },
  {
   "cell_type": "code",
   "execution_count": null,
   "metadata": {},
   "outputs": [],
   "source": [
    "for i in range(3, 6):\n",
    "    print(i)"
   ]
  },
  {
   "cell_type": "markdown",
   "metadata": {},
   "source": [
    "Try also this one:"
   ]
  },
  {
   "cell_type": "code",
   "execution_count": null,
   "metadata": {},
   "outputs": [],
   "source": [
    "for i in range(4, 10, 2):\n",
    "    print(i)"
   ]
  },
  {
   "cell_type": "markdown",
   "metadata": {},
   "source": [
    "Type `help(range)` to get more information on the built-in `range` function."
   ]
  },
  {
   "cell_type": "code",
   "execution_count": null,
   "metadata": {},
   "outputs": [],
   "source": [
    "..."
   ]
  },
  {
   "cell_type": "markdown",
   "metadata": {},
   "source": [
    "<font color='red'>**Exercise 3.1**</font> Create a function that prints the values of $cos(2\\pi n/3 - \\pi/3)$ for $n=11,12,\\ldots,21$. (Hint: Recall to import!)"
   ]
  },
  {
   "cell_type": "code",
   "execution_count": null,
   "metadata": {},
   "outputs": [],
   "source": [
    "..."
   ]
  },
  {
   "cell_type": "markdown",
   "metadata": {},
   "source": [
    "## 4. Arrays"
   ]
  },
  {
   "cell_type": "markdown",
   "metadata": {},
   "source": [
    "In Exercise 3.1 we asked the processor to compute several cosine values and print them. What if we wanted to store this information for future use?\n",
    "\n",
    "**Numpy arrays** (provided by the package called [NumPy](http://www.numpy.org/) that we saw in Lab 01) are here for you! :)\n",
    "\n",
    "An array is a collection of values of the same type. \n",
    "\n",
    "There can be arrays of multiple dimensions. For now, we will focus on one-dimensional arrays (you might also call these vectors)."
   ]
  },
  {
   "cell_type": "markdown",
   "metadata": {},
   "source": [
    "### 4.1 Creating different arrays\n",
    "\n",
    "The example below creates a simple array of four values all explicitly given by us. "
   ]
  },
  {
   "cell_type": "code",
   "execution_count": null,
   "metadata": {},
   "outputs": [],
   "source": [
    "import numpy as np\n",
    "a = np.array([0, 1, 2, 3])"
   ]
  },
  {
   "cell_type": "markdown",
   "metadata": {},
   "source": [
    "You can print the values of the array by doing this"
   ]
  },
  {
   "cell_type": "code",
   "execution_count": null,
   "metadata": {},
   "outputs": [],
   "source": [
    "print(a)"
   ]
  },
  {
   "cell_type": "markdown",
   "metadata": {},
   "source": [
    "You can also get information about its length by calling the Python built-in function `len`"
   ]
  },
  {
   "cell_type": "code",
   "execution_count": null,
   "metadata": {},
   "outputs": [],
   "source": [
    "len(a)"
   ]
  },
  {
   "cell_type": "markdown",
   "metadata": {},
   "source": [
    "In the following exercises, you will learn how to create certain types of arrays that are so commonly used that Numpy offers dedicated functions for them."
   ]
  },
  {
   "cell_type": "markdown",
   "metadata": {},
   "source": [
    "<font color='red'>**Exercise 4.1.1**</font> Create an array of 5 ones."
   ]
  },
  {
   "cell_type": "code",
   "execution_count": null,
   "metadata": {},
   "outputs": [],
   "source": [
    "..."
   ]
  },
  {
   "cell_type": "markdown",
   "metadata": {},
   "source": [
    "<font color='red'>**Exercise 4.1.1**</font> Create an array of 8 zeros."
   ]
  },
  {
   "cell_type": "code",
   "execution_count": null,
   "metadata": {},
   "outputs": [],
   "source": [
    "..."
   ]
  },
  {
   "cell_type": "markdown",
   "metadata": {},
   "source": [
    "<font color='red'>**Exercise 4.1.1**</font> Create an array of 6 [random numbers](https://docs.scipy.org/doc/numpy-1.15.1/reference/generated/numpy.random.rand.html)."
   ]
  },
  {
   "cell_type": "code",
   "execution_count": null,
   "metadata": {},
   "outputs": [],
   "source": [
    "..."
   ]
  },
  {
   "attachments": {
    "image.png": {
     "image/png": "[encoded data removed]"
    }
   },
   "cell_type": "markdown",
   "metadata": {},
   "source": [
    "#### 4.1.1 `np.linspace`\n",
    "Very often, we want to work with many numbers that are evenly spaced within some range.  NumPy provides a special function for this called `linspace`\n",
    "\n",
    "![image.png](attachment:image.png)\n",
    "\n",
    "Here is a quick example:"
   ]
  },
  {
   "cell_type": "code",
   "execution_count": null,
   "metadata": {},
   "outputs": [],
   "source": [
    "np.linspace(start = 0, stop = 1, num = 11)"
   ]
  },
  {
   "cell_type": "markdown",
   "metadata": {},
   "source": [
    "Another related function that is useful to know is the `arange` function"
   ]
  },
  {
   "cell_type": "code",
   "execution_count": null,
   "metadata": {},
   "outputs": [],
   "source": [
    "np.arange(start=0, stop=1.1, step=0.1)"
   ]
  },
  {
   "cell_type": "markdown",
   "metadata": {},
   "source": [
    "<font color='red'>**Exercise 4.1.1.1**</font> Use `np.arange` to create an array with the multiples of 99 from 0 up to (**and including**) 9999.  (So its elements are 0, 99, 198, 297, etc.)"
   ]
  },
  {
   "cell_type": "code",
   "execution_count": null,
   "metadata": {},
   "outputs": [],
   "source": [
    "..."
   ]
  },
  {
   "cell_type": "markdown",
   "metadata": {},
   "source": [
    "### 4.2 Working with single elements of arrays (\"indexing\")\n",
    "\n",
    "Run each one of the following commands to learn how to access elements of an array. See [here](https://docs.scipy.org/doc/numpy-1.13.0/reference/arrays.indexing.html) for more information!"
   ]
  },
  {
   "cell_type": "code",
   "execution_count": null,
   "metadata": {},
   "outputs": [],
   "source": [
    "x = np.linspace(0,9,10)\n",
    "print(x)\n",
    "\n",
    "print(x[0])\n",
    "\n",
    "print(x[1])\n",
    "\n",
    "print(x[1:])\n",
    "\n",
    "print(x[:1])\n",
    "\n",
    "print(x[0:7:2]) # i:j:k where i is the starting index, j is the stopping index, and k is the step "
   ]
  },
  {
   "cell_type": "markdown",
   "metadata": {},
   "source": [
    "<font color='red'>**Exercise 4.2**</font> Convince yourself that the following piece of code implements Exercise 3.1 using the array structure."
   ]
  },
  {
   "cell_type": "code",
   "execution_count": null,
   "metadata": {},
   "outputs": [],
   "source": [
    "ns = np.linspace(11,21,11)\n",
    "for i in range(11):\n",
    "    # print(i)\n",
    "    # print(ns[i])\n",
    "    print( np.cos(2*np.pi*ns[i]/3 - np.pi/3) )"
   ]
  },
  {
   "cell_type": "markdown",
   "metadata": {},
   "source": [
    "### 4.3 Calling functions on arrays"
   ]
  },
  {
   "cell_type": "markdown",
   "metadata": {},
   "source": [
    "Arrays provide a very efficient way to call functions on multiple different arguments without using for loops. Here is an alternative more efficient way to implement the code in Exercise 4.2."
   ]
  },
  {
   "cell_type": "code",
   "execution_count": null,
   "metadata": {},
   "outputs": [],
   "source": [
    "ns = np.linspace(11,21,11)\n",
    "print( np.cos(2*np.pi*ns/3 - np.pi/3) )"
   ]
  },
  {
   "cell_type": "markdown",
   "metadata": {
    "slideshow": {
     "slide_type": "slide"
    }
   },
   "source": [
    "<font color='red'>**Exercise 4.3**</font> Run the following piece of code to plot the cosine values that you computed above."
   ]
  },
  {
   "cell_type": "code",
   "execution_count": null,
   "metadata": {},
   "outputs": [],
   "source": [
    "# allows matplotlib charts to be displayed inside the notebook\n",
    "%matplotlib inline  \n",
    "import matplotlib.pyplot as plt\n",
    "\n",
    "\n",
    "ns = np.linspace(11,21,11)\n",
    "ys = np.cos(2*np.pi*ns/3 - np.pi/3)\n",
    "\n",
    "\n",
    "fig, ax = plt.subplots()\n",
    "ax.plot(ns,ys)\n",
    "#ax.set_xlim(11,21)"
   ]
  },
  {
   "cell_type": "markdown",
   "metadata": {},
   "source": [
    "## 5. Application: Rectangular pulse"
   ]
  },
  {
   "cell_type": "markdown",
   "metadata": {},
   "source": [
    "Consider the following periodic signal with period $1$sec:\n",
    "$$\n",
    "x(t) = \\begin{cases} 0, & t\\in[0,1/4] \\quad\\text{or}\\quad t\\in[3/4,1] \\\\\n",
    "1, & t\\in[1/4,3/4]\n",
    "\\end{cases}\n",
    "$$\n",
    "and\n",
    "$$\n",
    "x(t+1)=x(t). \\qquad \\forall t\n",
    "$$"
   ]
  },
  {
   "cell_type": "markdown",
   "metadata": {},
   "source": [
    "<font color='red'>**Exercise 5.1**</font> Write code that plots two periods of the rectangular pulse. Consider the following fine discretization of the time variable $t$:"
   ]
  },
  {
   "cell_type": "code",
   "execution_count": null,
   "metadata": {},
   "outputs": [],
   "source": [
    "framerate = 44100\n",
    "t = np.linspace(0,2,framerate*2)"
   ]
  },
  {
   "cell_type": "code",
   "execution_count": null,
   "metadata": {},
   "outputs": [],
   "source": [
    "\"\"\"Create an array with the signal values corresponding to the times t above\"\"\"\n",
    "xt = 10*np.cos(np.pi*2*400*t)"
   ]
  },
  {
   "cell_type": "code",
   "execution_count": null,
   "metadata": {},
   "outputs": [],
   "source": [
    "\"\"\"Plot the signal. You can use the commands provided to you in Exercise 4.3\"\"\""
   ]
  },
  {
   "cell_type": "markdown",
   "metadata": {},
   "source": [
    "<font color='red'>**Exercise 5.2**</font> You may also want to listen to the signal that you just created"
   ]
  },
  {
   "cell_type": "code",
   "execution_count": null,
   "metadata": {},
   "outputs": [],
   "source": [
    "from IPython.display import Audio\n",
    "Audio(xt,rate=framerate)"
   ]
  },
  {
   "cell_type": "markdown",
   "metadata": {},
   "source": [
    "## 6. Sinusoidal Signals"
   ]
  },
  {
   "cell_type": "code",
   "execution_count": null,
   "metadata": {
    "scrolled": true
   },
   "outputs": [],
   "source": [
    "\"Play with these parameters to change amplitude, freq and phase of the sinusoidal signal\"\n",
    "\n",
    "freq = 1 #hz - cycles per second\n",
    "amplitude = 2\n",
    "phase = 0\n",
    "\n",
    "time_to_plot = 2    # time duration of the wave to be plotted in sec\n",
    "sample_rate = 1000  # samples per second\n",
    "\n",
    "num_samples = sample_rate * time_to_plot\n",
    "\n",
    "# create the signal\n",
    "t = np.linspace(0, time_to_plot, num_samples)\n",
    "signal = amplitude * np.cos(2*np.pi*freq*t+phase)  \n",
    "\n",
    "# plot the signal\n",
    "plt.title('time domain')\n",
    "plt.xlabel('time (in seconds)')\n",
    "plt.ylabel('amplitude')\n",
    "plt.plot(t, signal)"
   ]
  },
  {
   "cell_type": "markdown",
   "metadata": {},
   "source": [
    "## Adding harmonics: Simple Example of Fourier synthesis\n",
    "\n",
    "The goal of the following exercise is to convince you that additive linear combinations of members of the family of harmonically related sinusoidal signals can result in \"rich\" signals with interesting behavior. Feel free to play around by modifying the fundamental frequency of the family, modifying the harmonics that are being added and modifying the additive linear combinations."
   ]
  },
  {
   "cell_type": "code",
   "execution_count": null,
   "metadata": {},
   "outputs": [],
   "source": [
    "f0 = 2                  # fundamental frequency\n",
    "om0 = 2*np.pi*f0   \n",
    "\n",
    "# Two subplots, the axes array is 1-d\n",
    "t = np.linspace(0, 2 , int(1e6))\n",
    "\n",
    "\"Play with the amplitudes, phases and harmonics to see what waveforms you get\"\n",
    "y0 = 1/4*np.cos(0*om0*t)   # DC component\n",
    "y1 = 1/np.pi * np.cos(1*om0*t+np.pi/4)   # fundamental frequency\n",
    "y2 = 1/2/np.pi * np.cos(2*om0*t)   # 2nd harmonic\n",
    "y3 = 1/3/np.pi * np.cos(3*om0*t)   # ...\n",
    "y4 = 1/5/np.pi * np.cos(5*om0*t-np.pi/6)  #\n",
    "\n",
    "f, axarr = plt.subplots(5, sharex=True, sharey=True)\n",
    "f.set_size_inches(12,6)\n",
    "axarr[0].plot(t, y0)\n",
    "axarr[1].plot(t, y1)\n",
    "axarr[2].plot(t, y2)\n",
    "axarr[3].plot(t, y3)\n",
    "axarr[4].plot(t, y4)\n",
    "_ = plt.show()"
   ]
  },
  {
   "cell_type": "code",
   "execution_count": null,
   "metadata": {},
   "outputs": [],
   "source": [
    "# Plot the additive linear combination of harmonic sinusoids\n",
    "plt.title('y0+y1+y2+y3+y4')\n",
    "plt.xlabel('time (in seconds)')\n",
    "plt.ylabel('amplitude')\n",
    "convoluted_wave = y0 + y1 + y2 + y3 + y4\n",
    "x = np.linspace(0,9,convoluted_wave.size)\n",
    "_ = plt.plot(x, convoluted_wave)"
   ]
  },
  {
   "cell_type": "code",
   "execution_count": null,
   "metadata": {},
   "outputs": [],
   "source": []
  }
 ],
 "metadata": {
  "kernelspec": {
   "display_name": "Python 3 (ipykernel)",
   "language": "python",
   "name": "python3"
  },
  "language_info": {
   "codemirror_mode": {
    "name": "ipython",
    "version": 3
   },
   "file_extension": ".py",
   "mimetype": "text/x-python",
   "name": "python",
   "nbconvert_exporter": "python",
   "pygments_lexer": "ipython3",
   "version": "3.11.4"
  }
 },
 "nbformat": 4,
 "nbformat_minor": 4
}
