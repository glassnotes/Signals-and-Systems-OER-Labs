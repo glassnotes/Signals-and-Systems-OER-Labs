{
 "cells": [
  {
   "cell_type": "markdown",
   "id": "5ffb9aea",
   "metadata": {},
   "source": [
    "# Implementing a Simple Thermostat"
   ]
  },
  {
   "cell_type": "markdown",
   "id": "3ee8f05a",
   "metadata": {},
   "source": [
    "## Learning Objectives\n",
    "\n",
    "- Learn the basic tools in `python-controls` library to implement basic LTI systems\n",
    "- Implement an appropriate feedback system to a thermostat to achieve desired temperature\n"
   ]
  },
  {
   "cell_type": "code",
   "execution_count": null,
   "id": "e1274c1d",
   "metadata": {},
   "outputs": [],
   "source": [
    "import control as ctl\n",
    "import matplotlib.pyplot as plt\n",
    "import numpy as np\n",
    "from IPython.display import Image"
   ]
  },
  {
   "cell_type": "markdown",
   "id": "f5d6b346",
   "metadata": {},
   "source": [
    "## Part 1: Getting familiar with python-controls\n",
    "\n",
    "'python-controls' is an important library in python which can be used to create mathematical models of systems, whether it be from data or from differential equations. In this course we will only be working with tools that are familiar to you theoretically. Additonally, make sure you run all of the image cells to get a better image of the problem."
   ]
  },
  {
   "cell_type": "markdown",
   "id": "446ccd83",
   "metadata": {},
   "source": [
    "Let us start by writing down a transfer function and then extracting the poles and zeros form it. The transfer function used here will be:\n",
    "\n",
    "$$\n",
    "H(s) = \\frac{s + 3}{s^2 + 2s + 1}\n",
    "$$"
   ]
  },
  {
   "cell_type": "code",
   "execution_count": null,
   "id": "a9015b1a",
   "metadata": {},
   "outputs": [],
   "source": [
    "# Define a transfer function\n",
    "numerator = [1, 3] # coefficients of numerator \n",
    "denominator = [1, 1, 2] # coefficients of denominator\n",
    "H = ctl.TransferFunction(numerator, denominator)\n",
    "\n",
    "# Extracting poles \n",
    "poles = ctl.pole(H) # Returns array with the complex values of poles \n",
    "\n",
    "#Extracting zeros\n",
    "zeros = ctl.zero(H) # Returns array with the complex values of zeros\n",
    "\n",
    "print(H)\n",
    "print(\"Poles: \", poles)\n",
    "print(\"Zeros: \", zeros)"
   ]
  },
  {
   "cell_type": "markdown",
   "id": "3f366bb9",
   "metadata": {},
   "source": [
    "**Exercise 1.1:** Let us try to make a function which plots any transfer function on the s-plane. Try this function out with $H(s)$."
   ]
  },
  {
   "cell_type": "code",
   "execution_count": null,
   "id": "3ca75124",
   "metadata": {},
   "outputs": [],
   "source": [
    "def s_plane(tf):\n",
    "    \n",
    "    \"\"\"\n",
    "    Visualizes the poles and zeros of a given transfer function in the s-plane.\n",
    "\n",
    "    The s-plane is a complex frequency plane, with the real part of a complex number\n",
    "    plotted along the x-axis and the imaginary part along the y-axis.\n",
    "\n",
    "    Parameters:\n",
    "    - tf : Transfer Function\n",
    "        The transfer function whose poles and zeros are to be extracted and visualized.\n",
    "        \n",
    "\n",
    "    Returns:\n",
    "    - None : This function does not return any value.\n",
    "\n",
    "    \"\"\"\n",
    "    \n",
    "    poles = ... #write the function to extract the poles from a transfer function\n",
    "    zeros = ... #write the function to extract the zeros from a transfer function\n",
    "    \n",
    "    plt.figure(figsize=(8, 8))\n",
    "    plt.scatter(poles.real, poles.imag, marker='x', color='r', label='Poles')\n",
    "    plt.scatter(zeros.real, zeros.imag, marker='o', color='b', label='Zeros')\n",
    "    plt.xlabel('Real')\n",
    "    plt.ylabel('Imaginary')\n",
    "    plt.grid()\n",
    "    plt.legend()\n",
    "    plt.title('Poles and Zeros in the s-plane')\n",
    "    plt.show()\n",
    "    \n",
    "...\n",
    "    "
   ]
  },
  {
   "cell_type": "markdown",
   "id": "ae1aab85",
   "metadata": {},
   "source": [
    "**Exercise 1.2:** Write a function to check the stability of the system. Check if your function works with $H(s)$."
   ]
  },
  {
   "cell_type": "code",
   "execution_count": null,
   "id": "450934d3",
   "metadata": {},
   "outputs": [],
   "source": [
    "def check_stability(tf):\n",
    "    \n",
    "    \"\"\"\n",
    "    Checks the stability of a given transfer function.\n",
    "\n",
    "    Stability Criterion:\n",
    "    - A transfer function is considered stable if all the poles of the transfer function\n",
    "      have negative real parts (i.e., they lie in the left-half of the s-plane).\n",
    "\n",
    "    Parameters:\n",
    "    - tf : Transfer Function\n",
    "\n",
    "    Returns:\n",
    "    - None : This function prints out the stability status of the transfer function.\n",
    "\n",
    "    \"\"\"\n",
    "    ...\n",
    "        \n",
    "check_stability(H)           "
   ]
  },
  {
   "cell_type": "markdown",
   "id": "b15619b6",
   "metadata": {},
   "source": [
    "**Exercise 1.3:** Now try to analyze the stability of a system with the differential equation:\n",
    "\n",
    "$$\n",
    "\\frac{d^2 y}{dt^2} - 2\\frac{dy}{dt} + y(t) = x(t) \n",
    "$$\n",
    "\n",
    "We will add snippets of code to plot the bode plot, impulse, and step response of the system."
   ]
  },
  {
   "cell_type": "code",
   "execution_count": null,
   "id": "d3fdf8e3",
   "metadata": {},
   "outputs": [],
   "source": [
    "Image(filename='img1.png')"
   ]
  },
  {
   "cell_type": "code",
   "execution_count": null,
   "id": "d8829c35",
   "metadata": {},
   "outputs": [],
   "source": [
    "G = ctl.TransferFunction(...) #Identify what the numerators and denominators will be for the following Differential Equation\n",
    "...\n",
    "\n",
    "# Plot bode plot\n",
    "ctl.bode_plot(G, dB=True)\n",
    "\n",
    "# Plot impulse response\n",
    "time, response = ctl.impulse_response(G)\n",
    "plt.figure()\n",
    "plt.plot(time, response)\n",
    "plt.title('Impulse Response')\n",
    "plt.xlabel('Time')\n",
    "plt.ylabel('Response')\n",
    "plt.grid(True)\n",
    "\n",
    "# Plot step response\n",
    "time, response = ctl.step_response(G)\n",
    "plt.figure()\n",
    "plt.plot(time, response)\n",
    "plt.title('Step Response')\n",
    "plt.xlabel('Time')\n",
    "plt.ylabel('Response')\n",
    "plt.grid(True)\n",
    "\n",
    "plt.show()\n"
   ]
  },
  {
   "cell_type": "markdown",
   "id": "80f4def7",
   "metadata": {},
   "source": [
    "Notice how the responses of these transfers fucntions tend to infinity as time increases, further implying that the system is unstable."
   ]
  },
  {
   "cell_type": "code",
   "execution_count": null,
   "id": "8170d344",
   "metadata": {},
   "outputs": [],
   "source": [
    "Image(filename='img2.png')"
   ]
  },
  {
   "cell_type": "markdown",
   "id": "105ce212",
   "metadata": {},
   "source": [
    "**Exercise 1.4:** We can introduce a feedback system to make this system stable. Let us introduce a system U(s) and compute the closed loop transfer function of the system.\n",
    "\n",
    "$$\n",
    "U(s) = {As + B}\n",
    "$$\n",
    "\n",
    "Try to find feasible values of A and B for which the transfer function will become stable. **Hint:** Think about the formula for a closed loop transfer function. \n",
    "Furthermore, use the snippets from above to get the bode plot, step response, and impulse response of the feedback system."
   ]
  },
  {
   "cell_type": "code",
   "execution_count": null,
   "id": "33709a0a",
   "metadata": {},
   "outputs": [],
   "source": [
    "# Define U(s)\n",
    "numerator = ...\n",
    "denominator = ...\n",
    "U = ctl.TransferFunction(...)\n",
    "\n",
    "# Create the closed-loop system\n",
    "sys = ctl.feedback(G, U, sign = -1) # G -> Open loop TF; U -> Feedback Loop; sign -> positive or negative feedback\n",
    "print(sys)\n",
    "check_stability(sys)\n"
   ]
  },
  {
   "cell_type": "markdown",
   "id": "a6f4d432",
   "metadata": {},
   "source": [
    "This shows that on choosing the right feedback system, we can improve the stability of a system."
   ]
  },
  {
   "cell_type": "markdown",
   "id": "3f0da446",
   "metadata": {},
   "source": [
    "Fun Fact: As you may have noticed earlier, if the system were not stable, the phase plot will cross the -180 degree line at frequencies where the system is unstable, indicating a phase shift that can lead to positive feedback and growing oscillations."
   ]
  },
  {
   "cell_type": "markdown",
   "id": "38d7fcd4",
   "metadata": {},
   "source": [
    "## Part 2: Temperature Control System\n",
    "\n",
    "You are a control systems engineering intern at a startup company called Cozy Homes. They are working on making a smart thermostat. However, on testing their device they notice that the thermostat does not provide optimal temperature because of a suspected error in the control algorithm of the thermostat. \n",
    "\n",
    "It is your responsibility to correct this system using your knowledge on feedback systems. You are provided with the poles and zeros of the original system in the s-plane, as given below. Furthermore, to improve the output, you decide to add a PID controller, which is a very useful type of controller. It is your goal to 'tune' the parameters of this controller to give a desirable output."
   ]
  },
  {
   "cell_type": "code",
   "execution_count": null,
   "id": "d8760afc",
   "metadata": {},
   "outputs": [],
   "source": [
    "Image(filename='img4.png')"
   ]
  },
  {
   "cell_type": "markdown",
   "id": "980e0fe0",
   "metadata": {},
   "source": [
    "**Exercise 2.1:** Load the image to get the s-plane of the overall system. From the s-plane, can you determine the transfer function of the system? You may assume the numerator of the transfer function of the system to have a constant of **0.4**."
   ]
  },
  {
   "cell_type": "code",
   "execution_count": null,
   "id": "01a3bc3b",
   "metadata": {},
   "outputs": [],
   "source": [
    "Image(filename='img3.png')"
   ]
  },
  {
   "cell_type": "code",
   "execution_count": null,
   "id": "f656d906",
   "metadata": {},
   "outputs": [],
   "source": [
    "gs = ctl.TransferFunction(...)"
   ]
  },
  {
   "cell_type": "markdown",
   "id": "357d5d11",
   "metadata": {},
   "source": [
    "**Exercise 2.2:** We want to set the temperature on this thermostat to be 23 degrees Celsius. Feed the input to the system and plot the output of the response with respect to the input. The input is essentially a step-function with a magnitude of 23."
   ]
  },
  {
   "cell_type": "code",
   "execution_count": null,
   "id": "a23bc7ca",
   "metadata": {},
   "outputs": [],
   "source": [
    "time, response = ... # Step Response of magnitude 23\n",
    "plt.figure()\n",
    "# This line is to show the step input in the graph\n",
    "t = np.linspace(0, 10, response.size) \n",
    "step = np.ones_like(t) * ... # Your step input\n",
    "\n",
    "# Plotting Response\n",
    "plt.plot(time, response, label='Step Response')\n",
    "plt.plot(time, step, label='Step Input')\n",
    "plt.title('Step Response')\n",
    "plt.xlabel('Time')\n",
    "plt.ylabel('Response')\n",
    "plt.grid(True)\n",
    "plt.legend()\n",
    "plt.show()"
   ]
  },
  {
   "cell_type": "markdown",
   "id": "bd11d63e",
   "metadata": {},
   "source": [
    "**Exercise 2.3:** Add a unit feedback line to the system and check the output of the system. Keep in mind that a unit feedback like is just a feedback system with the transfer function:\n",
    "$$\n",
    "H(s) = 1\n",
    "$$"
   ]
  },
  {
   "cell_type": "code",
   "execution_count": null,
   "id": "4b3ef639",
   "metadata": {},
   "outputs": [],
   "source": [
    "fb = ctl.TransferFunction(...) # Feedback Transfer Function\n",
    "sys = ... # Closed Loop Transfer Function\n",
    "time, response = ... # Step Response of magnitude 23\n",
    "\n",
    "# This line is to show the step input in the graph\n",
    "t = np.linspace(0, 10, response.size)\n",
    "step = np.ones_like(t) * ... # Your step input\n",
    "\n",
    "# Plotting Response \n",
    "plt.plot(time, response, label='Step Response')\n",
    "plt.plot(time, step, label='Step Input')\n",
    "plt.title('Step Response')\n",
    "plt.xlabel('Time')\n",
    "plt.ylabel('Response')\n",
    "plt.legend()\n",
    "plt.grid(True)\n"
   ]
  },
  {
   "cell_type": "markdown",
   "id": "2ba05314",
   "metadata": {},
   "source": [
    "**Exercise 2.4:** Our ouput seems to approach a stady state value which is not the desired value. To optimize this response, you decide to add a controller to the system represented as the following: \n",
    "\n",
    "$$\n",
    "C(s) = K_p + \\frac{K_i}{s} + K_d s\n",
    "$$\n",
    "\n",
    "\n",
    "Here, C(s) is a PID controller, as mentioned earlier. The three parameters we have are $K_p$, $K_i$, and $K_d$ where:\n",
    "\n",
    "- $K_p$ represents the proportional constant\n",
    "- $K_i$ represents the integral constant\n",
    "- $K_d$ represents the derivative constant \n",
    "\n",
    "Can you think of why the transfer function of the PID controller is so? (**Hint:** What is the Laplace transform of the integral and derivative of a function?)\n",
    "\n",
    "For this part of the lab, cascade the following controller to the open loop system and figure out the value of the constants through a procedure of trail and error. You also find out the following relation for the constants:\n",
    "\n",
    "$$\n",
    "0 < K_p, K_i, K_d < 2\n",
    "$$\n",
    "\n",
    "The photo below is a block-diagram representation of the PID controller ($C(s)$ in the block diagram).\n",
    "This is somthing you will learn more in-depth about in your future classes."
   ]
  },
  {
   "cell_type": "code",
   "execution_count": null,
   "id": "da9eed7b",
   "metadata": {},
   "outputs": [],
   "source": [
    "Image(filename='img5.png')"
   ]
  },
  {
   "cell_type": "code",
   "execution_count": null,
   "id": "b11860cb",
   "metadata": {},
   "outputs": [],
   "source": [
    "cs = ctl.TransferFunction(...)\n",
    "gs_new = ... # This line is used to cascade two systems in series\n",
    "sys = ... # Closed Loop Transfer Function\n",
    "time, response = ... # Step Response of magnitude 23\n",
    "plt.figure()\n",
    "\n",
    "# This line is to show the step input in the graph\n",
    "t = np.linspace(0, 10, response.size)\n",
    "step = np.ones_like(t) * ...\n",
    "\n",
    "# Plotting Response \n",
    "plt.plot(time, response, label='Step Response')\n",
    "plt.plot(time, step, label='Step Input')\n",
    "plt.title('Step Response')\n",
    "plt.xlabel('Time')\n",
    "plt.ylabel('Response')\n",
    "plt.legend()\n",
    "plt.grid(True)"
   ]
  }
 ],
 "metadata": {
  "kernelspec": {
   "display_name": "Python 3 (ipykernel)",
   "language": "python",
   "name": "python3"
  },
  "language_info": {
   "codemirror_mode": {
    "name": "ipython",
    "version": 3
   },
   "file_extension": ".py",
   "mimetype": "text/x-python",
   "name": "python",
   "nbconvert_exporter": "python",
   "pygments_lexer": "ipython3",
   "version": "3.11.4"
  }
 },
 "nbformat": 4,
 "nbformat_minor": 5
}
