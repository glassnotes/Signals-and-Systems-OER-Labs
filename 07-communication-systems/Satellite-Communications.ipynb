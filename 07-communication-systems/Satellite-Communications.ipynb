{
 "cells": [
  {
   "cell_type": "markdown",
   "metadata": {},
   "source": [
    "# Satellite Communication\n",
    "\n",
    "The goal of this assignment is to help you expand your understanding in the following topics:\n",
    "\n",
    "- Fourier Spectrum\n",
    "- Bandpass Filtering\n",
    "- Amplitude Modulation\n",
    "- Frequency Division Multiplexing (FDM)\n",
    "- Communication Systems (Chapter 8 in Oppenheim)\n"
   ]
  },
  {
   "cell_type": "markdown",
   "metadata": {},
   "source": [
    "Imagine you are a part of a UBC club called \"Talking to the Moon\". During one of your weekly meetings, your group suddenly receives a signal from what you believe is outer space. You are tasked with deciphering what message you received, as well as sending back a response."
   ]
  },
  {
   "cell_type": "markdown",
   "metadata": {},
   "source": [
    "## What is Frequency Division Multiplexing?\n",
    "\n",
    "Frequency Division Multiplexing (FDM) is a process of transmitting multiple signals over a common medium. In other words, we can take multiple *bandlimited* signals, multiply each of them by a sinusoid with a unique carrier frequency, then we can sum them up and transmit them over the same communication channel.\n"
   ]
  },
  {
   "cell_type": "markdown",
   "metadata": {},
   "source": [
    "_Let us start with a little exercise to understand the concept better:_\n",
    "\n",
    "**Question**: Five channels, each with a 100kHz bandwidth, are to be multiplexed\n",
    "together. What is the minimum bandwidth of the summed signals if there is a need for a\n",
    "guard band of 10 kHz between the channels to prevent interference?"
   ]
  },
  {
   "cell_type": "markdown",
   "metadata": {},
   "source": [
    "Enter your answer here\n",
    ":"
   ]
  },
  {
   "cell_type": "markdown",
   "metadata": {},
   "source": []
  },
  {
   "cell_type": "markdown",
   "metadata": {},
   "source": [
    "Let us start off with an easy amplitude modulation exercise"
   ]
  },
  {
   "cell_type": "markdown",
   "metadata": {},
   "source": [
    "Here are the libraries that we will need:"
   ]
  },
  {
   "cell_type": "code",
   "execution_count": null,
   "metadata": {},
   "outputs": [],
   "source": [
    "import numpy as np\n",
    "import matplotlib.pyplot as plt\n",
    "\n",
    "# let us read .wav audio files\n",
    "from scipy.io import wavfile\n",
    "#help(wavfile)\n",
    "\n",
    "# let us play audio in Jupyter\n",
    "from IPython.display import Audio, Image\n",
    "from IPython.core.display import HTML\n"
   ]
  },
  {
   "cell_type": "markdown",
   "metadata": {},
   "source": [
    "## Part 1: Combining some signals"
   ]
  },
  {
   "cell_type": "markdown",
   "metadata": {},
   "source": [
    "In this fun little, exercise you will have to make a group of signals, such as sinusoids, and sum them all together to hear the result! This may seem very simple, and you are right, but it is here to show you a crucial part of the FDM process. Take this opportunity to experiment with sounds and see what sounds result from combining different signals! Submit your favourite creation."
   ]
  },
  {
   "cell_type": "code",
   "execution_count": null,
   "metadata": {},
   "outputs": [],
   "source": [
    "import numpy as np\n",
    "from IPython.display import Audio, Image\n",
    "from IPython.core.display import HTML\n",
    "\n",
    "# Sampling parameters\n",
    "sample_rate = ...\n",
    "duration = ...\n",
    "time = np.linspace(0, duration, int(duration * sample_rate))\n",
    "\n",
    "# Signal frequencies and amplitudes\n",
    "signal_frequencies = ...  # Frequencies in Hz\n",
    "signal_amplitudes = ...  # Amplitudes (normalized)\n",
    "\n",
    "# Generate individual audio signals\n",
    "...\n",
    "\n",
    "# Combine the audio signals using FDM\n",
    "fdm_signal = ...\n",
    "\n",
    "# Save the FDM signal to an audio file\n",
    "Audio(fdm_signal, rate=sample_rate)"
   ]
  },
  {
   "cell_type": "markdown",
   "metadata": {},
   "source": [
    "**Exercise 1.0** Modulating Some Amplitudes\n",
    "\n",
    "Now, let us quickly see what happens when we modulate a signal with a carrier frequency. Below you have to generate a signal, x(t) which is a cosine function. Multiply it by another cosine function with different carrier frequencies and plot the result!"
   ]
  },
  {
   "cell_type": "code",
   "execution_count": null,
   "metadata": {},
   "outputs": [],
   "source": []
  },
  {
   "cell_type": "markdown",
   "metadata": {},
   "source": [
    "## Part 2: FDM on an Audio File"
   ]
  },
  {
   "cell_type": "markdown",
   "metadata": {},
   "source": [
    "\n",
    "**Exercise 2.0:** Now let's see how we can apply FDM on an audio signal:\n",
    "Right now, select how many signals you would like to use for this FDM exercise and specify the frequency ranges\n",
    "that you would like to use for these signals. \n",
    "\n",
    "Let us start by looking into how you can send a message to your new cosmic pen-pal.\n",
    "\n",
    "The ranges will be how you band-limit your signals, so make sure you choose a bandwidth that does not overlap\n",
    "with the other signals!"
   ]
  },
  {
   "cell_type": "code",
   "execution_count": null,
   "metadata": {},
   "outputs": [],
   "source": [
    "\n",
    "signals_count = ...    #CUSTOMIZEABLE -- decide how many signals you want\n",
    "\n",
    "#CUSTOM:\n",
    "#Considering the number of signals you chose, specify the same number of frequency ranges \n",
    "#with which you would like to bandlimit your signal, make sure the intervals do NOT overlap\n",
    "frequency_ranges = [...]\n"
   ]
  },
  {
   "cell_type": "markdown",
   "metadata": {},
   "source": [
    "**Exercise 2.1:** In the next part, insert an audio file of your choice which contains the message you would like to send to the mysterious entity with which you have come into contact through your satellite."
   ]
  },
  {
   "cell_type": "code",
   "execution_count": null,
   "metadata": {},
   "outputs": [],
   "source": [
    "# Read audio file -- give them a more interesting audio, or let them choose it themselves\n",
    "sampling_rate, audio_data = wavfile.read('insert .wav file here')\n",
    "duration = len(audio_data) / sampling_rate # this is the duration of the signal\n"
   ]
  },
  {
   "cell_type": "markdown",
   "metadata": {},
   "source": [
    "**Exercise 2.2:** Now we need to modulate the frequencies by multiplying the audio signals with cosines of different carrier frequencies:\n",
    "\n",
    "Generate an array of random carrier frequencies, with the same number of carrier frequencies as your signals.\n",
    "\n",
    "Make sure no two carrier frequencies are the same in your array!"
   ]
  },
  {
   "cell_type": "code",
   "execution_count": null,
   "metadata": {},
   "outputs": [],
   "source": [
    "# Choose valid carrier frequencies for each signal\n",
    "carrier_frequency = [...]\n",
    "\n",
    "# Modulate audio signals with carrier frequencies\n",
    "modulated_signals = []\n",
    "for i in range(signals_count):\n",
    "    modulated_signal = audio_data * np.cos(2 * np.pi * carrier_frequency[i] * np.arange(len(audio_data)) / sampling_rate)\n",
    "    modulated_signals.append(modulated_signal) # Adds each signal to the back of the list\n",
    "\n",
    "fdmed_signal = np.sum(modulated_signals, axis=0) # Sum the array of modulated signals\n",
    "Audio(fdmed_signal, rate=sampling_rate)\n"
   ]
  },
  {
   "cell_type": "markdown",
   "metadata": {},
   "source": [
    "**Exercise 2.3:**\n",
    "Now that we have created our modulated signals, it is time to plot them and see what we have!\n",
    "\n",
    "First, use the `np.fft.fft()` function to take the audio and FDM signals into the frequency domain, then plot both time and frequency domain signals.\n"
   ]
  },
  {
   "cell_type": "code",
   "execution_count": null,
   "metadata": {},
   "outputs": [],
   "source": [
    "\n",
    "# Perform FFT to convert from time domain to frequency domain\n",
    "fft_fdm = ...\n",
    "freq = ... # Frequency axis\n",
    "\n",
    "fft_fdm2 = ... # Original audio signal - make this something the students fill in\n",
    "freq2 = ...  \n",
    "\n",
    "# Plot the frequency-domain signal\n",
    "\n",
    "\n",
    "# Plot the frequency-domain signal\n",
    "\n",
    "\n"
   ]
  },
  {
   "cell_type": "markdown",
   "metadata": {},
   "source": [
    "## Part 3: Signal Demodulation"
   ]
  },
  {
   "cell_type": "markdown",
   "metadata": {},
   "source": [
    "**Exercise 3.0:**\n",
    "Now we are ready to demodulate the signal that has been sent to us! It seems like our cosmic pen pal really likes chords, so let us figure out which music chord they sent us."
   ]
  },
  {
   "cell_type": "markdown",
   "metadata": {},
   "source": [
    "You have been given a piece of code, which contains a signal of a diminished 7th chord with the notes of the frequncies 220, 261.63, 311.13 and 369.99.\n",
    "\n",
    "Your task is to filter out each note and make verify that the chord actually contains those frequencies."
   ]
  },
  {
   "cell_type": "code",
   "execution_count": null,
   "metadata": {},
   "outputs": [],
   "source": [
    "# this is the code to generate the signal, listen to the audio generated by this code\n",
    "# Sampling parameters\n",
    "sampling_rate = 44100\n",
    "duration = 2.0\n",
    "time = np.linspace(0, duration, int(duration * sampling_rate))\n",
    "\n",
    "# Signal frequencies and amplitudes\n",
    "signal_frequencies = [220, 261.63, 311.13, 369.99]   # Frequencies in Hz\n",
    "\n",
    "# Generate individual audio signals\n",
    "audio_signals = []\n",
    "for i in np.arange(len(signal_frequencies)):\n",
    "    audio_signal = np.cos(2 * np.pi * signal_frequencies[i] * time)\n",
    "    audio_signals.append(audio_signal)\n",
    "\n",
    "# Combine the audio signals using FDM\n",
    "fdm_signal = np.sum(audio_signals, axis=0)\n",
    "\n",
    "# Save the FDM signal to an audio file\n",
    "Audio(fdm_signal, rate=sampling_rate)"
   ]
  },
  {
   "cell_type": "code",
   "execution_count": null,
   "metadata": {},
   "outputs": [],
   "source": [
    "# Sampling parameters\n",
    "import scipy.signal as signal\n",
    "\n",
    "sampling_rate = 44100  # Samples per second\n",
    "\n",
    "# Frequency ranges for each music note\n",
    "frequency_ranges = [...]\n",
    "\n",
    "# Demodulate each music note using filter bank demodulation\n",
    "demodulated_signals = []\n",
    "for frequency_range in ...:\n",
    "    # Design a band-pass filter for the specific frequency range\n",
    "    # You can use functions in the library scipy.signal, or create your own filter!\n",
    "    # if you decide to create your own filter, make sure to make it as a function in a separate code box\n",
    "    # and instantiate it here.\n",
    "\n",
    "    # Apply the band-pass filter to extract the specific music note\n",
    "    # Once again, either use scipy.signal or your own creation\n",
    "\n",
    "Audio(demodulated_signals[3], rate=sampling_rate)"
   ]
  },
  {
   "cell_type": "markdown",
   "metadata": {},
   "source": [
    "Now plot your signals!\n"
   ]
  },
  {
   "cell_type": "code",
   "execution_count": null,
   "metadata": {},
   "outputs": [],
   "source": [
    "# Plotting the extracted signals\n",
    "..."
   ]
  }
 ],
 "metadata": {
  "kernelspec": {
   "display_name": "Python 3 (ipykernel)",
   "language": "python",
   "name": "python3"
  },
  "language_info": {
   "codemirror_mode": {
    "name": "ipython",
    "version": 3
   },
   "file_extension": ".py",
   "mimetype": "text/x-python",
   "name": "python",
   "nbconvert_exporter": "python",
   "pygments_lexer": "ipython3",
   "version": "3.9.7"
  }
 },
 "nbformat": 4,
 "nbformat_minor": 4
}
